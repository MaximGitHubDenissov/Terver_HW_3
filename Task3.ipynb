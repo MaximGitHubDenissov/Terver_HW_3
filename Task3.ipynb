{
 "cells": [
  {
   "attachments": {},
   "cell_type": "markdown",
   "metadata": {},
   "source": [
    "Задача 3. На соревновании по биатлону один из трех спортсменов стреляет и попадает в мишень. Вероятность попадания для первого спортсмена равна 0.9, для второго — 0.8, для третьего — 0.6. Найти вероятность того, что выстрел произведен: a. первым спортсменом б. вторым спортсменом в. третьим спортсменом."
   ]
  },
  {
   "cell_type": "code",
   "execution_count": 8,
   "metadata": {},
   "outputs": [
    {
     "data": {
      "text/plain": [
       "0.7666666666666666"
      ]
     },
     "execution_count": 8,
     "metadata": {},
     "output_type": "execute_result"
    }
   ],
   "source": [
    "p1 = 0.9\n",
    "p2 = 0.8\n",
    "p3 = 0.6\n",
    "x = 1/3\n",
    "\n",
    "r1 = 1/3*0.9\n",
    "r2 = 1/3*0.8\n",
    "r3 = 1/3*0.6\n",
    "fver = r1+r2+r3\n",
    "fver"
   ]
  },
  {
   "cell_type": "code",
   "execution_count": 10,
   "metadata": {},
   "outputs": [
    {
     "name": "stdout",
     "output_type": "stream",
     "text": [
      "0.391304347826087\n",
      "0.3478260869565218\n",
      "0.2608695652173913\n"
     ]
    }
   ],
   "source": [
    "def Baes(x,p,fver):\n",
    "    res = x*p/fver\n",
    "    return res\n",
    "a1 = Baes(x,p1,fver)\n",
    "a2 = Baes(x,p2,fver)\n",
    "a3 = Baes(x,p3,fver)\n",
    "# Вероятность попадания первого спортсмена\n",
    "print(a1)\n",
    "# Вероятность попадания второго спортсмена\n",
    "print(a2)\n",
    "# Вероятность попадания третьего спортсмена\n",
    "print(a3)"
   ]
  }
 ],
 "metadata": {
  "kernelspec": {
   "display_name": "Python 3",
   "language": "python",
   "name": "python3"
  },
  "language_info": {
   "codemirror_mode": {
    "name": "ipython",
    "version": 3
   },
   "file_extension": ".py",
   "mimetype": "text/x-python",
   "name": "python",
   "nbconvert_exporter": "python",
   "pygments_lexer": "ipython3",
   "version": "3.10.10"
  },
  "orig_nbformat": 4
 },
 "nbformat": 4,
 "nbformat_minor": 2
}
